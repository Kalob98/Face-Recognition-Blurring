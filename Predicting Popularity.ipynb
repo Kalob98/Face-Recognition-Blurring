{
 "cells": [
  {
   "cell_type": "markdown",
   "metadata": {},
   "source": [
    "# Cleaning the data"
   ]
  },
  {
   "cell_type": "code",
   "execution_count": 68,
   "metadata": {},
   "outputs": [],
   "source": [
    "#cleaning the data\n",
    "import pandas as pd\n",
    "import numpy as np\n",
    "\n",
    "#reading the file\n",
    "df = pd.read_csv('Instagram.csv')\n",
    "\n",
    "#read the test file\n",
    "df2 = pd.read_csv('Test.csv')\n",
    "\n",
    "#dropping the links to each Instagram picture\n",
    "df = df.drop(\"Link to photo\", axis=1)\n",
    "\n",
    "#replacing typos in the dataset\n",
    "df['Framing'] = df['Framing'].replace('Full body', 'Full Body')\n",
    "df['Facial piercings'] = df['Facial piercings'].replace('None', 'No')\n",
    "df['Earrings'] = df['Earrings'].replace('None', 'No')\n",
    "df['Facial hair'] = df['Facial hair'].replace('No', 'None')\n",
    "df['Eye shadow color'] = df['Eye shadow color'].replace('No', 'None')\n",
    "df['Lipstick color'] = df['Lipstick color'].replace('No', 'None')\n",
    "df['Makeup'] = df['Makeup'].replace('None', 'No')\n",
    "\n",
    "#dropping Photo Comments and user names\n",
    "df_train = df.drop('Photo comments', axis=1)\n",
    "df_train = df_train.drop('Usernames', axis=1)\n",
    "\n",
    "df_test = df2.drop('Usernames', axis=1)\n",
    "\n",
    "#for i in df.columns:\n",
    "    #print(df[i].value_counts())\n",
    "    #print('   ')"
   ]
  },
  {
   "cell_type": "markdown",
   "metadata": {},
   "source": [
    "# Finding the gender ratio"
   ]
  },
  {
   "cell_type": "code",
   "execution_count": 2,
   "metadata": {},
   "outputs": [
    {
     "name": "stdout",
     "output_type": "stream",
     "text": [
      "59.0% of the users in this dataset are females.\n",
      "41.0% of the users in this dataset are males.\n"
     ]
    }
   ],
   "source": [
    "#finding the gender ratio\n",
    "genders = df['Gender'].value_counts()\n",
    "females = genders[0]\n",
    "males = genders[1]\n",
    "\n",
    "females = females / 3\n",
    "males = males / 3\n",
    "\n",
    "print(str((females / 200) * 100) + '% of the users in this dataset are females.')\n",
    "print(str((males / 200) * 100) + '% of the users in this dataset are males.')"
   ]
  },
  {
   "cell_type": "markdown",
   "metadata": {},
   "source": [
    "# The average number of post"
   ]
  },
  {
   "cell_type": "code",
   "execution_count": 3,
   "metadata": {},
   "outputs": [
    {
     "data": {
      "text/plain": [
       "count     600.00000\n",
       "mean      787.08500\n",
       "std      1278.48234\n",
       "min        14.00000\n",
       "25%       127.00000\n",
       "50%       330.50000\n",
       "75%       800.75000\n",
       "max      9196.00000\n",
       "Name: Posts, dtype: float64"
      ]
     },
     "execution_count": 3,
     "metadata": {},
     "output_type": "execute_result"
    }
   ],
   "source": [
    "#average number of post\n",
    "df['Posts'].describe()"
   ]
  },
  {
   "cell_type": "markdown",
   "metadata": {},
   "source": [
    "# Concat dataframes, get dummies, and split data"
   ]
  },
  {
   "cell_type": "code",
   "execution_count": 4,
   "metadata": {},
   "outputs": [
    {
     "name": "stdout",
     "output_type": "stream",
     "text": [
      "88\n"
     ]
    },
    {
     "name": "stderr",
     "output_type": "stream",
     "text": [
      "C:\\Users\\kalob\\Anaconda3\\lib\\site-packages\\ipykernel_launcher.py:5: FutureWarning: Sorting because non-concatenation axis is not aligned. A future version\n",
      "of pandas will change to not sort by default.\n",
      "\n",
      "To accept the future behavior, pass 'sort=False'.\n",
      "\n",
      "To retain the current behavior and silence the warning, pass 'sort=True'.\n",
      "\n",
      "  \"\"\"\n"
     ]
    }
   ],
   "source": [
    "df_train['label'] = 'train'\n",
    "df_test['label'] = 'score'\n",
    "\n",
    "# Concat\n",
    "concat_df = pd.concat([df_train , df_test])\n",
    "\n",
    "# Create your dummies\n",
    "features_df = pd.get_dummies(concat_df, columns=['Gender', 'Framing', 'Background', 'Headwear', 'Hair style', 'Hair color', \n",
    "                                                 'Facial piercings', 'Earrings', 'Smile', 'Teeth', 'Facial hair', 'Glasses', \n",
    "                                                 'Eye shadow color', 'Lipstick color', 'Makeup', 'Clothes', 'Cleavage', \n",
    "                                                 'Necklace', 'Tattoos', 'Eye color'])\n",
    "features_df = features_df.drop('ID', axis=1)\n",
    "# Split your data\n",
    "train_df = features_df[features_df['label'] == 'train']\n",
    "test_df = features_df[features_df['label'] == 'score']\n",
    "\n",
    "# Drop your labels\n",
    "train_df = train_df.drop('label', axis=1)\n",
    "test_df = test_df.drop('label', axis=1)\n",
    "test_df = test_df.drop('Photo likes', axis=1)\n",
    "\n",
    "#test_df.to_csv(r'C:\\users\\kalob\\Desktop\\test.csv')\n",
    "\n",
    "#print(train_df.columns)\n",
    "print(len(test_df.columns))"
   ]
  },
  {
   "cell_type": "markdown",
   "metadata": {},
   "source": [
    "# Training Model"
   ]
  },
  {
   "cell_type": "code",
   "execution_count": 12,
   "metadata": {},
   "outputs": [],
   "source": [
    "#predicting likes using Random Forest\n",
    "from sklearn.ensemble import RandomForestClassifier as RFC\n",
    "from sklearn.neighbors import KNeighborsClassifier\n",
    "from sklearn.tree import DecisionTreeClassifier\n",
    "\n",
    "X_train = train_df.drop('Photo likes', axis=1)#features\n",
    "y_train = train_df['Photo likes'] #label\n",
    "\n",
    "#X_test values from the test data set\n",
    "X_test = test_df"
   ]
  },
  {
   "cell_type": "markdown",
   "metadata": {},
   "source": [
    "# Random Forest"
   ]
  },
  {
   "cell_type": "code",
   "execution_count": 89,
   "metadata": {},
   "outputs": [
    {
     "data": {
      "text/html": [
       "<div>\n",
       "<style scoped>\n",
       "    .dataframe tbody tr th:only-of-type {\n",
       "        vertical-align: middle;\n",
       "    }\n",
       "\n",
       "    .dataframe tbody tr th {\n",
       "        vertical-align: top;\n",
       "    }\n",
       "\n",
       "    .dataframe thead th {\n",
       "        text-align: right;\n",
       "    }\n",
       "</style>\n",
       "<table border=\"1\" class=\"dataframe\">\n",
       "  <thead>\n",
       "    <tr style=\"text-align: right;\">\n",
       "      <th></th>\n",
       "      <th>0</th>\n",
       "    </tr>\n",
       "  </thead>\n",
       "  <tbody>\n",
       "    <tr>\n",
       "      <th>0</th>\n",
       "      <td>51</td>\n",
       "    </tr>\n",
       "    <tr>\n",
       "      <th>1</th>\n",
       "      <td>7</td>\n",
       "    </tr>\n",
       "    <tr>\n",
       "      <th>2</th>\n",
       "      <td>78</td>\n",
       "    </tr>\n",
       "    <tr>\n",
       "      <th>3</th>\n",
       "      <td>242</td>\n",
       "    </tr>\n",
       "    <tr>\n",
       "      <th>4</th>\n",
       "      <td>127</td>\n",
       "    </tr>\n",
       "    <tr>\n",
       "      <th>5</th>\n",
       "      <td>37</td>\n",
       "    </tr>\n",
       "    <tr>\n",
       "      <th>6</th>\n",
       "      <td>116</td>\n",
       "    </tr>\n",
       "    <tr>\n",
       "      <th>7</th>\n",
       "      <td>397</td>\n",
       "    </tr>\n",
       "    <tr>\n",
       "      <th>8</th>\n",
       "      <td>72</td>\n",
       "    </tr>\n",
       "    <tr>\n",
       "      <th>9</th>\n",
       "      <td>166</td>\n",
       "    </tr>\n",
       "    <tr>\n",
       "      <th>10</th>\n",
       "      <td>451</td>\n",
       "    </tr>\n",
       "    <tr>\n",
       "      <th>11</th>\n",
       "      <td>29</td>\n",
       "    </tr>\n",
       "    <tr>\n",
       "      <th>12</th>\n",
       "      <td>92</td>\n",
       "    </tr>\n",
       "    <tr>\n",
       "      <th>13</th>\n",
       "      <td>115</td>\n",
       "    </tr>\n",
       "    <tr>\n",
       "      <th>14</th>\n",
       "      <td>82</td>\n",
       "    </tr>\n",
       "  </tbody>\n",
       "</table>\n",
       "</div>"
      ],
      "text/plain": [
       "      0\n",
       "0    51\n",
       "1     7\n",
       "2    78\n",
       "3   242\n",
       "4   127\n",
       "5    37\n",
       "6   116\n",
       "7   397\n",
       "8    72\n",
       "9   166\n",
       "10  451\n",
       "11   29\n",
       "12   92\n",
       "13  115\n",
       "14   82"
      ]
     },
     "execution_count": 89,
     "metadata": {},
     "output_type": "execute_result"
    }
   ],
   "source": [
    "#applying random forest\n",
    "rf = RFC(n_estimators=100, max_depth=10)\n",
    "rf.fit(X_train, y_train);\n",
    "\n",
    "y_true = rf.predict(X_test)\n",
    "\n",
    "true = pd.DataFrame(data=y_true)\n",
    "true"
   ]
  },
  {
   "cell_type": "markdown",
   "metadata": {},
   "source": [
    "# KNN"
   ]
  },
  {
   "cell_type": "code",
   "execution_count": 10,
   "metadata": {},
   "outputs": [
    {
     "data": {
      "text/html": [
       "<div>\n",
       "<style scoped>\n",
       "    .dataframe tbody tr th:only-of-type {\n",
       "        vertical-align: middle;\n",
       "    }\n",
       "\n",
       "    .dataframe tbody tr th {\n",
       "        vertical-align: top;\n",
       "    }\n",
       "\n",
       "    .dataframe thead th {\n",
       "        text-align: right;\n",
       "    }\n",
       "</style>\n",
       "<table border=\"1\" class=\"dataframe\">\n",
       "  <thead>\n",
       "    <tr style=\"text-align: right;\">\n",
       "      <th></th>\n",
       "      <th>0</th>\n",
       "    </tr>\n",
       "  </thead>\n",
       "  <tbody>\n",
       "    <tr>\n",
       "      <th>0</th>\n",
       "      <td>27</td>\n",
       "    </tr>\n",
       "    <tr>\n",
       "      <th>1</th>\n",
       "      <td>27</td>\n",
       "    </tr>\n",
       "    <tr>\n",
       "      <th>2</th>\n",
       "      <td>27</td>\n",
       "    </tr>\n",
       "    <tr>\n",
       "      <th>3</th>\n",
       "      <td>107</td>\n",
       "    </tr>\n",
       "    <tr>\n",
       "      <th>4</th>\n",
       "      <td>107</td>\n",
       "    </tr>\n",
       "    <tr>\n",
       "      <th>5</th>\n",
       "      <td>107</td>\n",
       "    </tr>\n",
       "    <tr>\n",
       "      <th>6</th>\n",
       "      <td>1,392</td>\n",
       "    </tr>\n",
       "    <tr>\n",
       "      <th>7</th>\n",
       "      <td>1,392</td>\n",
       "    </tr>\n",
       "    <tr>\n",
       "      <th>8</th>\n",
       "      <td>1,392</td>\n",
       "    </tr>\n",
       "    <tr>\n",
       "      <th>9</th>\n",
       "      <td>1,212</td>\n",
       "    </tr>\n",
       "    <tr>\n",
       "      <th>10</th>\n",
       "      <td>1,212</td>\n",
       "    </tr>\n",
       "    <tr>\n",
       "      <th>11</th>\n",
       "      <td>1,212</td>\n",
       "    </tr>\n",
       "    <tr>\n",
       "      <th>12</th>\n",
       "      <td>143</td>\n",
       "    </tr>\n",
       "    <tr>\n",
       "      <th>13</th>\n",
       "      <td>143</td>\n",
       "    </tr>\n",
       "    <tr>\n",
       "      <th>14</th>\n",
       "      <td>143</td>\n",
       "    </tr>\n",
       "  </tbody>\n",
       "</table>\n",
       "</div>"
      ],
      "text/plain": [
       "        0\n",
       "0      27\n",
       "1      27\n",
       "2      27\n",
       "3     107\n",
       "4     107\n",
       "5     107\n",
       "6   1,392\n",
       "7   1,392\n",
       "8   1,392\n",
       "9   1,212\n",
       "10  1,212\n",
       "11  1,212\n",
       "12    143\n",
       "13    143\n",
       "14    143"
      ]
     },
     "execution_count": 10,
     "metadata": {},
     "output_type": "execute_result"
    }
   ],
   "source": [
    "model = KNeighborsClassifier(n_neighbors=20)\n",
    "model.fit(X_train, y_train)\n",
    "\n",
    "y_true1 = model.predict(X_test)\n",
    "\n",
    "true1 = pd.DataFrame(data=y_true1)\n",
    "true1"
   ]
  },
  {
   "cell_type": "markdown",
   "metadata": {},
   "source": [
    "# DecisionTree"
   ]
  },
  {
   "cell_type": "code",
   "execution_count": 92,
   "metadata": {},
   "outputs": [
    {
     "data": {
      "text/html": [
       "<div>\n",
       "<style scoped>\n",
       "    .dataframe tbody tr th:only-of-type {\n",
       "        vertical-align: middle;\n",
       "    }\n",
       "\n",
       "    .dataframe tbody tr th {\n",
       "        vertical-align: top;\n",
       "    }\n",
       "\n",
       "    .dataframe thead th {\n",
       "        text-align: right;\n",
       "    }\n",
       "</style>\n",
       "<table border=\"1\" class=\"dataframe\">\n",
       "  <thead>\n",
       "    <tr style=\"text-align: right;\">\n",
       "      <th></th>\n",
       "      <th>0</th>\n",
       "    </tr>\n",
       "  </thead>\n",
       "  <tbody>\n",
       "    <tr>\n",
       "      <th>0</th>\n",
       "      <td>17</td>\n",
       "    </tr>\n",
       "    <tr>\n",
       "      <th>1</th>\n",
       "      <td>17</td>\n",
       "    </tr>\n",
       "    <tr>\n",
       "      <th>2</th>\n",
       "      <td>17</td>\n",
       "    </tr>\n",
       "    <tr>\n",
       "      <th>3</th>\n",
       "      <td>34</td>\n",
       "    </tr>\n",
       "    <tr>\n",
       "      <th>4</th>\n",
       "      <td>34</td>\n",
       "    </tr>\n",
       "    <tr>\n",
       "      <th>5</th>\n",
       "      <td>34</td>\n",
       "    </tr>\n",
       "    <tr>\n",
       "      <th>6</th>\n",
       "      <td>52</td>\n",
       "    </tr>\n",
       "    <tr>\n",
       "      <th>7</th>\n",
       "      <td>52</td>\n",
       "    </tr>\n",
       "    <tr>\n",
       "      <th>8</th>\n",
       "      <td>52</td>\n",
       "    </tr>\n",
       "    <tr>\n",
       "      <th>9</th>\n",
       "      <td>1,352,438</td>\n",
       "    </tr>\n",
       "    <tr>\n",
       "      <th>10</th>\n",
       "      <td>1,106</td>\n",
       "    </tr>\n",
       "    <tr>\n",
       "      <th>11</th>\n",
       "      <td>1,140,815</td>\n",
       "    </tr>\n",
       "    <tr>\n",
       "      <th>12</th>\n",
       "      <td>34</td>\n",
       "    </tr>\n",
       "    <tr>\n",
       "      <th>13</th>\n",
       "      <td>34</td>\n",
       "    </tr>\n",
       "    <tr>\n",
       "      <th>14</th>\n",
       "      <td>34</td>\n",
       "    </tr>\n",
       "  </tbody>\n",
       "</table>\n",
       "</div>"
      ],
      "text/plain": [
       "            0\n",
       "0          17\n",
       "1          17\n",
       "2          17\n",
       "3          34\n",
       "4          34\n",
       "5          34\n",
       "6          52\n",
       "7          52\n",
       "8          52\n",
       "9   1,352,438\n",
       "10      1,106\n",
       "11  1,140,815\n",
       "12         34\n",
       "13         34\n",
       "14         34"
      ]
     },
     "execution_count": 92,
     "metadata": {},
     "output_type": "execute_result"
    }
   ],
   "source": [
    "tree = DecisionTreeClassifier(criterion='gini', max_depth = 100, min_samples_leaf = 25)\n",
    "tree.fit(X_train, y_train)\n",
    "\n",
    "y_true2 = tree.predict(X_test)\n",
    "\n",
    "true2 = pd.DataFrame(data=y_true2)\n",
    "true2"
   ]
  }
 ],
 "metadata": {
  "kernelspec": {
   "display_name": "Python 3",
   "language": "python",
   "name": "python3"
  },
  "language_info": {
   "codemirror_mode": {
    "name": "ipython",
    "version": 3
   },
   "file_extension": ".py",
   "mimetype": "text/x-python",
   "name": "python",
   "nbconvert_exporter": "python",
   "pygments_lexer": "ipython3",
   "version": "3.7.3"
  }
 },
 "nbformat": 4,
 "nbformat_minor": 2
}
